{
 "cells": [
  {
   "cell_type": "markdown",
   "metadata": {
    "collapsed": true
   },
   "source": [
    "# Naive Bayes"
   ]
  },
  {
   "cell_type": "markdown",
   "metadata": {},
   "source": [
    "## Classifier\n",
    "\n",
    "$\n",
    "\\begin{align}\n",
    "    argmax P(c|d) &= argmax \\frac{P(d|c) P(c)}{P(d)}\\\\\n",
    "    &= argmax \\frac{P(d|c) P(c)}{\\sum_c P(d|c) P(c)}\\\\\n",
    "    &= argmax P(d|c) P(c)\\\\\n",
    "    &= argmax P(w_1, w_2, \\cdots, w_n | c) P(c)\\\\\n",
    "    &= argmax P(w_1|c) P(w_2|c,w_1) P(w_3|c, w_1, w_2) \\cdots P(w_n|c, w_1, \\cdots, w_{n-1}) P(c)\\\\\n",
    "    &= argmax P(w_1|c) P(w_2|c) \\cdots P(w_n|c) P(c)\n",
    "\\end{align}\n",
    "$"
   ]
  },
  {
   "cell_type": "markdown",
   "metadata": {},
   "source": [
    "# Training for Multinomial Data\n",
    "\n",
    "$\n",
    "\\begin{align}\n",
    "    P(w_i |c) &= \\frac{P(w_i, c)}{P(c)}\\\\\n",
    "    &= \\frac{count(w_i, c)}{(\\sum_{i \\in v} count(w_i, c)}\\\\\n",
    "    &\\rightarrow \\frac{count(w_i, c) + 1}{\\sum_{i \\in v } (count(w_i, c) + 1)}\\\\\n",
    "    &= \\frac{count(w_i, c) + 1}{count(w_i, c) + V}\n",
    "\\end{align}\n",
    "$"
   ]
  },
  {
   "cell_type": "markdown",
   "metadata": {},
   "source": [
    "## Training for Gaussian Data\n",
    "\n"
   ]
  },
  {
   "cell_type": "markdown",
   "metadata": {},
   "source": [
    "## Problems\n",
    "\n",
    "* data distributions are different across domains\n",
    "* "
   ]
  },
  {
   "cell_type": "code",
   "execution_count": null,
   "metadata": {
    "collapsed": true
   },
   "outputs": [],
   "source": []
  }
 ],
 "metadata": {
  "kernelspec": {
   "display_name": "Python 3",
   "language": "python",
   "name": "python3"
  },
  "language_info": {
   "codemirror_mode": {
    "name": "ipython",
    "version": 3
   },
   "file_extension": ".py",
   "mimetype": "text/x-python",
   "name": "python",
   "nbconvert_exporter": "python",
   "pygments_lexer": "ipython3",
   "version": "3.6.2"
  }
 },
 "nbformat": 4,
 "nbformat_minor": 2
}
